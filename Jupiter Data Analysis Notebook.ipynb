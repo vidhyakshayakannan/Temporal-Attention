{
 "cells": [
  {
   "cell_type": "code",
   "execution_count": 6,
   "metadata": {},
   "outputs": [
    {
     "data": {
      "text/plain": [
       "['pilot1_4datasree.csv', 'pilot1_4datasree2.csv', 'pilot1_4datasree3.csv']"
      ]
     },
     "execution_count": 6,
     "metadata": {},
     "output_type": "execute_result"
    }
   ],
   "source": [
    "#import the modules\n",
    "import os\n",
    "import pandas as pd\n",
    "import glob\n",
    "#read the path\n",
    "file_path = (r\"C:\\Users\\sreep\\OneDrive\\Desktop\\SaiU\\Honors Cogneuro Research\\Temporal-Attention\")\n",
    "#list all the files from the directory\n",
    "csv_files = glob.glob('*.{}'.format('csv'))\n",
    "csv_files\n",
    "\n",
    "\n"
   ]
  },
  {
   "cell_type": "code",
   "execution_count": null,
   "metadata": {},
   "outputs": [],
   "source": []
  },
  {
   "cell_type": "code",
   "execution_count": null,
   "metadata": {},
   "outputs": [],
   "source": []
  },
  {
   "cell_type": "code",
   "execution_count": 7,
   "metadata": {},
   "outputs": [
    {
     "data": {
      "text/html": [
       "<div>\n",
       "<style scoped>\n",
       "    .dataframe tbody tr th:only-of-type {\n",
       "        vertical-align: middle;\n",
       "    }\n",
       "\n",
       "    .dataframe tbody tr th {\n",
       "        vertical-align: top;\n",
       "    }\n",
       "\n",
       "    .dataframe thead th {\n",
       "        text-align: right;\n",
       "    }\n",
       "</style>\n",
       "<table border=\"1\" class=\"dataframe\">\n",
       "  <thead>\n",
       "    <tr style=\"text-align: right;\">\n",
       "      <th></th>\n",
       "      <th>Gap</th>\n",
       "      <th>Tone</th>\n",
       "      <th>tGap</th>\n",
       "      <th>Key</th>\n",
       "      <th>RT</th>\n",
       "    </tr>\n",
       "  </thead>\n",
       "  <tbody>\n",
       "    <tr>\n",
       "      <th>0</th>\n",
       "      <td>230</td>\n",
       "      <td>1</td>\n",
       "      <td>230</td>\n",
       "      <td>M</td>\n",
       "      <td>640</td>\n",
       "    </tr>\n",
       "    <tr>\n",
       "      <th>1</th>\n",
       "      <td>500</td>\n",
       "      <td>1</td>\n",
       "      <td>500</td>\n",
       "      <td>M</td>\n",
       "      <td>556</td>\n",
       "    </tr>\n",
       "    <tr>\n",
       "      <th>2</th>\n",
       "      <td>480</td>\n",
       "      <td>1</td>\n",
       "      <td>480</td>\n",
       "      <td>M</td>\n",
       "      <td>547</td>\n",
       "    </tr>\n",
       "    <tr>\n",
       "      <th>3</th>\n",
       "      <td>180</td>\n",
       "      <td>1</td>\n",
       "      <td>180</td>\n",
       "      <td>M</td>\n",
       "      <td>568</td>\n",
       "    </tr>\n",
       "    <tr>\n",
       "      <th>4</th>\n",
       "      <td>440</td>\n",
       "      <td>1</td>\n",
       "      <td>440</td>\n",
       "      <td>M</td>\n",
       "      <td>278</td>\n",
       "    </tr>\n",
       "    <tr>\n",
       "      <th>...</th>\n",
       "      <td>...</td>\n",
       "      <td>...</td>\n",
       "      <td>...</td>\n",
       "      <td>...</td>\n",
       "      <td>...</td>\n",
       "    </tr>\n",
       "    <tr>\n",
       "      <th>271</th>\n",
       "      <td>140</td>\n",
       "      <td>1</td>\n",
       "      <td>140</td>\n",
       "      <td>M</td>\n",
       "      <td>556</td>\n",
       "    </tr>\n",
       "    <tr>\n",
       "      <th>272</th>\n",
       "      <td>140</td>\n",
       "      <td>2</td>\n",
       "      <td>140</td>\n",
       "      <td>C</td>\n",
       "      <td>629</td>\n",
       "    </tr>\n",
       "    <tr>\n",
       "      <th>273</th>\n",
       "      <td>110</td>\n",
       "      <td>1</td>\n",
       "      <td>110</td>\n",
       "      <td>M</td>\n",
       "      <td>556</td>\n",
       "    </tr>\n",
       "    <tr>\n",
       "      <th>274</th>\n",
       "      <td>290</td>\n",
       "      <td>2</td>\n",
       "      <td>290</td>\n",
       "      <td>C</td>\n",
       "      <td>495</td>\n",
       "    </tr>\n",
       "    <tr>\n",
       "      <th>275</th>\n",
       "      <td>130</td>\n",
       "      <td>1</td>\n",
       "      <td>130</td>\n",
       "      <td>M</td>\n",
       "      <td>450</td>\n",
       "    </tr>\n",
       "  </tbody>\n",
       "</table>\n",
       "<p>276 rows × 5 columns</p>\n",
       "</div>"
      ],
      "text/plain": [
       "     Gap  Tone  tGap Key   RT\n",
       "0    230     1   230   M  640\n",
       "1    500     1   500   M  556\n",
       "2    480     1   480   M  547\n",
       "3    180     1   180   M  568\n",
       "4    440     1   440   M  278\n",
       "..   ...   ...   ...  ..  ...\n",
       "271  140     1   140   M  556\n",
       "272  140     2   140   C  629\n",
       "273  110     1   110   M  556\n",
       "274  290     2   290   C  495\n",
       "275  130     1   130   M  450\n",
       "\n",
       "[276 rows x 5 columns]"
      ]
     },
     "execution_count": 7,
     "metadata": {},
     "output_type": "execute_result"
    }
   ],
   "source": [
    "df_concat = pd.concat([pd.read_csv(f) for f in csv_files ], ignore_index=True)\n",
    "df_concat\n",
    "\n"
   ]
  },
  {
   "cell_type": "code",
   "execution_count": 11,
   "metadata": {},
   "outputs": [
    {
     "data": {
      "image/png": "[encoded data removed]",
      "text/plain": [
       "<Figure size 800x500 with 1 Axes>"
      ]
     },
     "metadata": {},
     "output_type": "display_data"
    }
   ],
   "source": [
    "import matplotlib.pyplot as plt\n",
    "\n",
    "# Given data\n",
    "data = [\n",
    "    [0, 230, 1, 230, \"M\", 640],\n",
    "    [1, 500, 1, 500, \"M\", 556],\n",
    "    [2, 480, 1, 480, \"M\", 547],\n",
    "    [3, 180, 1, 180, \"M\", 568],\n",
    "    [4, 440, 1, 440, \"M\", 27]\n",
    "]\n",
    "\n",
    "# Extract third column (tone) and fourth column (reaction time - RT)\n",
    "tones = [row[2] for row in data]  # Third column\n",
    "reaction_times = [row[3] for row in data]  # Fourth column (RT)\n",
    "\n",
    "# Create a histogram\n",
    "plt.figure(figsize=(8, 5))\n",
    "plt.hist(reaction_times, bins=5, color='blue', edgecolor='black', alpha=0.7)\n",
    "\n",
    "# Labels and title\n",
    "plt.xlabel(\"Reaction Time (RT)\")\n",
    "plt.ylabel(\"Frequency\")\n",
    "plt.title(\"Histogram of Reaction Time\")\n",
    "\n",
    "# Show the plot\n",
    "plt.grid(True, linestyle=\"--\", alpha=0.5)\n",
    "plt.show()"
   ]
  }
 ],
 "metadata": {
  "kernelspec": {
   "display_name": "Python 3",
   "language": "python",
   "name": "python3"
  },
  "language_info": {
   "codemirror_mode": {
    "name": "ipython",
    "version": 3
   },
   "file_extension": ".py",
   "mimetype": "text/x-python",
   "name": "python",
   "nbconvert_exporter": "python",
   "pygments_lexer": "ipython3",
   "version": "3.13.0"
  }
 },
 "nbformat": 4,
 "nbformat_minor": 2
}
